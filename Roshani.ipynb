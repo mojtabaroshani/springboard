{
 "cells": [
  {
   "cell_type": "markdown",
   "metadata": {},
   "source": [
    "### Loading Libraries"
   ]
  },
  {
   "cell_type": "code",
   "execution_count": 1,
   "metadata": {},
   "outputs": [],
   "source": [
    "import pandas as pd\n",
    "import numpy as np\n",
    "import matplotlib.pyplot as plt \n",
    "%matplotlib inline\n",
    "import matplotlib as mpl\n",
    "mpl.rcParams['figure.figsize'] = (10,5)\n",
    "import seaborn as sns\n",
    "import statsmodels.api as sm\n",
    "import statsmodels.graphics.api as smg"
   ]
  },
  {
   "cell_type": "markdown",
   "metadata": {},
   "source": [
    "### Loading Data"
   ]
  },
  {
   "cell_type": "code",
   "execution_count": 2,
   "metadata": {},
   "outputs": [],
   "source": [
    "co2 = pd.read_csv('co2.csv')\n",
    "tmpr = pd.read_csv('temperature.csv')"
   ]
  },
  {
   "cell_type": "markdown",
   "metadata": {},
   "source": [
    "Loaded 2 dataset from “datahub.io”:\n",
    "1. Global CO2 Emissions from Fossil Fuels since 1751 \n",
    "2. Global Temperature Time Series\n",
    "\n",
    "---\n",
    "\n",
    "### Global CO2 Emissions\n",
    "Global CO2 Emissions from fossil-fuels annually since 1751 till 2014.\n",
    "\n",
    "> source: https://datahub.io/core/co2-fossil-global\n",
    "\n",
    "### Global Temperature Time Series\n",
    "Global Temperature Time Series. Data are included from the GISS Surface Temperature (GISTEMP) analysis and the global component of Climate at a Glance (GCAG). Two datasets are provided: 1) global monthly mean and 2) annual mean temperature anomalies in degrees Celsius from 1880 to the present.\n",
    "> source: https://datahub.io/core/global-temp"
   ]
  },
  {
   "cell_type": "code",
   "execution_count": 3,
   "metadata": {},
   "outputs": [
    {
     "data": {
      "text/html": [
       "<div>\n",
       "<style scoped>\n",
       "    .dataframe tbody tr th:only-of-type {\n",
       "        vertical-align: middle;\n",
       "    }\n",
       "\n",
       "    .dataframe tbody tr th {\n",
       "        vertical-align: top;\n",
       "    }\n",
       "\n",
       "    .dataframe thead th {\n",
       "        text-align: right;\n",
       "    }\n",
       "</style>\n",
       "<table border=\"1\" class=\"dataframe\">\n",
       "  <thead>\n",
       "    <tr style=\"text-align: right;\">\n",
       "      <th></th>\n",
       "      <th>Year</th>\n",
       "      <th>Total</th>\n",
       "      <th>Gas Fuel</th>\n",
       "      <th>Liquid Fuel</th>\n",
       "      <th>Solid Fuel</th>\n",
       "      <th>Cement</th>\n",
       "      <th>Gas Flaring</th>\n",
       "      <th>Per Capita</th>\n",
       "    </tr>\n",
       "  </thead>\n",
       "  <tbody>\n",
       "    <tr>\n",
       "      <th>0</th>\n",
       "      <td>1751</td>\n",
       "      <td>3</td>\n",
       "      <td>0</td>\n",
       "      <td>0</td>\n",
       "      <td>3</td>\n",
       "      <td>0</td>\n",
       "      <td>0</td>\n",
       "      <td>NaN</td>\n",
       "    </tr>\n",
       "    <tr>\n",
       "      <th>1</th>\n",
       "      <td>1752</td>\n",
       "      <td>3</td>\n",
       "      <td>0</td>\n",
       "      <td>0</td>\n",
       "      <td>3</td>\n",
       "      <td>0</td>\n",
       "      <td>0</td>\n",
       "      <td>NaN</td>\n",
       "    </tr>\n",
       "    <tr>\n",
       "      <th>2</th>\n",
       "      <td>1753</td>\n",
       "      <td>3</td>\n",
       "      <td>0</td>\n",
       "      <td>0</td>\n",
       "      <td>3</td>\n",
       "      <td>0</td>\n",
       "      <td>0</td>\n",
       "      <td>NaN</td>\n",
       "    </tr>\n",
       "    <tr>\n",
       "      <th>3</th>\n",
       "      <td>1754</td>\n",
       "      <td>3</td>\n",
       "      <td>0</td>\n",
       "      <td>0</td>\n",
       "      <td>3</td>\n",
       "      <td>0</td>\n",
       "      <td>0</td>\n",
       "      <td>NaN</td>\n",
       "    </tr>\n",
       "    <tr>\n",
       "      <th>4</th>\n",
       "      <td>1755</td>\n",
       "      <td>3</td>\n",
       "      <td>0</td>\n",
       "      <td>0</td>\n",
       "      <td>3</td>\n",
       "      <td>0</td>\n",
       "      <td>0</td>\n",
       "      <td>NaN</td>\n",
       "    </tr>\n",
       "  </tbody>\n",
       "</table>\n",
       "</div>"
      ],
      "text/plain": [
       "   Year  Total  Gas Fuel  Liquid Fuel  Solid Fuel  Cement  Gas Flaring  \\\n",
       "0  1751      3         0            0           3       0            0   \n",
       "1  1752      3         0            0           3       0            0   \n",
       "2  1753      3         0            0           3       0            0   \n",
       "3  1754      3         0            0           3       0            0   \n",
       "4  1755      3         0            0           3       0            0   \n",
       "\n",
       "   Per Capita  \n",
       "0         NaN  \n",
       "1         NaN  \n",
       "2         NaN  \n",
       "3         NaN  \n",
       "4         NaN  "
      ]
     },
     "execution_count": 3,
     "metadata": {},
     "output_type": "execute_result"
    }
   ],
   "source": [
    "co2.head()"
   ]
  },
  {
   "cell_type": "code",
   "execution_count": 4,
   "metadata": {},
   "outputs": [
    {
     "name": "stdout",
     "output_type": "stream",
     "text": [
      "<class 'pandas.core.frame.DataFrame'>\n",
      "RangeIndex: 260 entries, 0 to 259\n",
      "Data columns (total 8 columns):\n",
      " #   Column       Non-Null Count  Dtype  \n",
      "---  ------       --------------  -----  \n",
      " 0   Year         260 non-null    int64  \n",
      " 1   Total        260 non-null    int64  \n",
      " 2   Gas Fuel     260 non-null    int64  \n",
      " 3   Liquid Fuel  260 non-null    int64  \n",
      " 4   Solid Fuel   260 non-null    int64  \n",
      " 5   Cement       260 non-null    int64  \n",
      " 6   Gas Flaring  260 non-null    int64  \n",
      " 7   Per Capita   61 non-null     float64\n",
      "dtypes: float64(1), int64(7)\n",
      "memory usage: 16.4 KB\n"
     ]
    }
   ],
   "source": [
    "co2.info()"
   ]
  },
  {
   "cell_type": "code",
   "execution_count": 5,
   "metadata": {},
   "outputs": [
    {
     "data": {
      "text/html": [
       "<div>\n",
       "<style scoped>\n",
       "    .dataframe tbody tr th:only-of-type {\n",
       "        vertical-align: middle;\n",
       "    }\n",
       "\n",
       "    .dataframe tbody tr th {\n",
       "        vertical-align: top;\n",
       "    }\n",
       "\n",
       "    .dataframe thead th {\n",
       "        text-align: right;\n",
       "    }\n",
       "</style>\n",
       "<table border=\"1\" class=\"dataframe\">\n",
       "  <thead>\n",
       "    <tr style=\"text-align: right;\">\n",
       "      <th></th>\n",
       "      <th>Year</th>\n",
       "      <th>Total</th>\n",
       "      <th>Gas Fuel</th>\n",
       "      <th>Liquid Fuel</th>\n",
       "      <th>Solid Fuel</th>\n",
       "      <th>Cement</th>\n",
       "      <th>Gas Flaring</th>\n",
       "      <th>Per Capita</th>\n",
       "    </tr>\n",
       "  </thead>\n",
       "  <tbody>\n",
       "    <tr>\n",
       "      <th>count</th>\n",
       "      <td>260.000000</td>\n",
       "      <td>260.000000</td>\n",
       "      <td>260.00000</td>\n",
       "      <td>260.000000</td>\n",
       "      <td>260.000000</td>\n",
       "      <td>260.000000</td>\n",
       "      <td>260.000000</td>\n",
       "      <td>61.000000</td>\n",
       "    </tr>\n",
       "    <tr>\n",
       "      <th>mean</th>\n",
       "      <td>1880.500000</td>\n",
       "      <td>1402.788462</td>\n",
       "      <td>185.20000</td>\n",
       "      <td>495.819231</td>\n",
       "      <td>674.569231</td>\n",
       "      <td>34.161538</td>\n",
       "      <td>13.065385</td>\n",
       "      <td>1.054754</td>\n",
       "    </tr>\n",
       "    <tr>\n",
       "      <th>std</th>\n",
       "      <td>75.199734</td>\n",
       "      <td>2253.098527</td>\n",
       "      <td>396.58556</td>\n",
       "      <td>934.308074</td>\n",
       "      <td>868.368580</td>\n",
       "      <td>78.899604</td>\n",
       "      <td>26.311315</td>\n",
       "      <td>0.178630</td>\n",
       "    </tr>\n",
       "    <tr>\n",
       "      <th>min</th>\n",
       "      <td>1751.000000</td>\n",
       "      <td>3.000000</td>\n",
       "      <td>0.00000</td>\n",
       "      <td>0.000000</td>\n",
       "      <td>3.000000</td>\n",
       "      <td>0.000000</td>\n",
       "      <td>0.000000</td>\n",
       "      <td>0.640000</td>\n",
       "    </tr>\n",
       "    <tr>\n",
       "      <th>25%</th>\n",
       "      <td>1815.750000</td>\n",
       "      <td>12.750000</td>\n",
       "      <td>0.00000</td>\n",
       "      <td>0.000000</td>\n",
       "      <td>12.750000</td>\n",
       "      <td>0.000000</td>\n",
       "      <td>0.000000</td>\n",
       "      <td>0.940000</td>\n",
       "    </tr>\n",
       "    <tr>\n",
       "      <th>50%</th>\n",
       "      <td>1880.500000</td>\n",
       "      <td>239.500000</td>\n",
       "      <td>0.00000</td>\n",
       "      <td>3.000000</td>\n",
       "      <td>236.000000</td>\n",
       "      <td>0.000000</td>\n",
       "      <td>0.000000</td>\n",
       "      <td>1.120000</td>\n",
       "    </tr>\n",
       "    <tr>\n",
       "      <th>75%</th>\n",
       "      <td>1945.250000</td>\n",
       "      <td>1385.000000</td>\n",
       "      <td>59.50000</td>\n",
       "      <td>279.250000</td>\n",
       "      <td>1023.500000</td>\n",
       "      <td>12.000000</td>\n",
       "      <td>0.000000</td>\n",
       "      <td>1.170000</td>\n",
       "    </tr>\n",
       "    <tr>\n",
       "      <th>max</th>\n",
       "      <td>2010.000000</td>\n",
       "      <td>9167.000000</td>\n",
       "      <td>1702.00000</td>\n",
       "      <td>3122.000000</td>\n",
       "      <td>3842.000000</td>\n",
       "      <td>450.000000</td>\n",
       "      <td>110.000000</td>\n",
       "      <td>1.330000</td>\n",
       "    </tr>\n",
       "  </tbody>\n",
       "</table>\n",
       "</div>"
      ],
      "text/plain": [
       "              Year        Total    Gas Fuel  Liquid Fuel   Solid Fuel  \\\n",
       "count   260.000000   260.000000   260.00000   260.000000   260.000000   \n",
       "mean   1880.500000  1402.788462   185.20000   495.819231   674.569231   \n",
       "std      75.199734  2253.098527   396.58556   934.308074   868.368580   \n",
       "min    1751.000000     3.000000     0.00000     0.000000     3.000000   \n",
       "25%    1815.750000    12.750000     0.00000     0.000000    12.750000   \n",
       "50%    1880.500000   239.500000     0.00000     3.000000   236.000000   \n",
       "75%    1945.250000  1385.000000    59.50000   279.250000  1023.500000   \n",
       "max    2010.000000  9167.000000  1702.00000  3122.000000  3842.000000   \n",
       "\n",
       "           Cement  Gas Flaring  Per Capita  \n",
       "count  260.000000   260.000000   61.000000  \n",
       "mean    34.161538    13.065385    1.054754  \n",
       "std     78.899604    26.311315    0.178630  \n",
       "min      0.000000     0.000000    0.640000  \n",
       "25%      0.000000     0.000000    0.940000  \n",
       "50%      0.000000     0.000000    1.120000  \n",
       "75%     12.000000     0.000000    1.170000  \n",
       "max    450.000000   110.000000    1.330000  "
      ]
     },
     "execution_count": 5,
     "metadata": {},
     "output_type": "execute_result"
    }
   ],
   "source": [
    "co2.describe()"
   ]
  },
  {
   "cell_type": "code",
   "execution_count": 6,
   "metadata": {},
   "outputs": [
    {
     "data": {
      "text/html": [
       "<div>\n",
       "<style scoped>\n",
       "    .dataframe tbody tr th:only-of-type {\n",
       "        vertical-align: middle;\n",
       "    }\n",
       "\n",
       "    .dataframe tbody tr th {\n",
       "        vertical-align: top;\n",
       "    }\n",
       "\n",
       "    .dataframe thead th {\n",
       "        text-align: right;\n",
       "    }\n",
       "</style>\n",
       "<table border=\"1\" class=\"dataframe\">\n",
       "  <thead>\n",
       "    <tr style=\"text-align: right;\">\n",
       "      <th></th>\n",
       "      <th>Source</th>\n",
       "      <th>Year</th>\n",
       "      <th>Mean</th>\n",
       "    </tr>\n",
       "  </thead>\n",
       "  <tbody>\n",
       "    <tr>\n",
       "      <th>0</th>\n",
       "      <td>GCAG</td>\n",
       "      <td>2016</td>\n",
       "      <td>0.9363</td>\n",
       "    </tr>\n",
       "    <tr>\n",
       "      <th>1</th>\n",
       "      <td>GISTEMP</td>\n",
       "      <td>2016</td>\n",
       "      <td>0.9900</td>\n",
       "    </tr>\n",
       "    <tr>\n",
       "      <th>2</th>\n",
       "      <td>GCAG</td>\n",
       "      <td>2015</td>\n",
       "      <td>0.8998</td>\n",
       "    </tr>\n",
       "    <tr>\n",
       "      <th>3</th>\n",
       "      <td>GISTEMP</td>\n",
       "      <td>2015</td>\n",
       "      <td>0.8700</td>\n",
       "    </tr>\n",
       "    <tr>\n",
       "      <th>4</th>\n",
       "      <td>GCAG</td>\n",
       "      <td>2014</td>\n",
       "      <td>0.7408</td>\n",
       "    </tr>\n",
       "  </tbody>\n",
       "</table>\n",
       "</div>"
      ],
      "text/plain": [
       "    Source  Year    Mean\n",
       "0     GCAG  2016  0.9363\n",
       "1  GISTEMP  2016  0.9900\n",
       "2     GCAG  2015  0.8998\n",
       "3  GISTEMP  2015  0.8700\n",
       "4     GCAG  2014  0.7408"
      ]
     },
     "execution_count": 6,
     "metadata": {},
     "output_type": "execute_result"
    }
   ],
   "source": [
    "tmpr.head()"
   ]
  },
  {
   "cell_type": "code",
   "execution_count": 7,
   "metadata": {
    "scrolled": true
   },
   "outputs": [
    {
     "name": "stdout",
     "output_type": "stream",
     "text": [
      "<class 'pandas.core.frame.DataFrame'>\n",
      "RangeIndex: 274 entries, 0 to 273\n",
      "Data columns (total 3 columns):\n",
      " #   Column  Non-Null Count  Dtype  \n",
      "---  ------  --------------  -----  \n",
      " 0   Source  274 non-null    object \n",
      " 1   Year    274 non-null    int64  \n",
      " 2   Mean    274 non-null    float64\n",
      "dtypes: float64(1), int64(1), object(1)\n",
      "memory usage: 6.5+ KB\n"
     ]
    }
   ],
   "source": [
    "tmpr.info()"
   ]
  },
  {
   "cell_type": "code",
   "execution_count": 8,
   "metadata": {},
   "outputs": [
    {
     "data": {
      "text/html": [
       "<div>\n",
       "<style scoped>\n",
       "    .dataframe tbody tr th:only-of-type {\n",
       "        vertical-align: middle;\n",
       "    }\n",
       "\n",
       "    .dataframe tbody tr th {\n",
       "        vertical-align: top;\n",
       "    }\n",
       "\n",
       "    .dataframe thead th {\n",
       "        text-align: right;\n",
       "    }\n",
       "</style>\n",
       "<table border=\"1\" class=\"dataframe\">\n",
       "  <thead>\n",
       "    <tr style=\"text-align: right;\">\n",
       "      <th></th>\n",
       "      <th>Year</th>\n",
       "      <th>Mean</th>\n",
       "    </tr>\n",
       "  </thead>\n",
       "  <tbody>\n",
       "    <tr>\n",
       "      <th>count</th>\n",
       "      <td>274.000000</td>\n",
       "      <td>274.000000</td>\n",
       "    </tr>\n",
       "    <tr>\n",
       "      <th>mean</th>\n",
       "      <td>1948.000000</td>\n",
       "      <td>0.036588</td>\n",
       "    </tr>\n",
       "    <tr>\n",
       "      <th>std</th>\n",
       "      <td>39.619805</td>\n",
       "      <td>0.320069</td>\n",
       "    </tr>\n",
       "    <tr>\n",
       "      <th>min</th>\n",
       "      <td>1880.000000</td>\n",
       "      <td>-0.470000</td>\n",
       "    </tr>\n",
       "    <tr>\n",
       "      <th>25%</th>\n",
       "      <td>1914.000000</td>\n",
       "      <td>-0.204350</td>\n",
       "    </tr>\n",
       "    <tr>\n",
       "      <th>50%</th>\n",
       "      <td>1948.000000</td>\n",
       "      <td>-0.053400</td>\n",
       "    </tr>\n",
       "    <tr>\n",
       "      <th>75%</th>\n",
       "      <td>1982.000000</td>\n",
       "      <td>0.229025</td>\n",
       "    </tr>\n",
       "    <tr>\n",
       "      <th>max</th>\n",
       "      <td>2016.000000</td>\n",
       "      <td>0.990000</td>\n",
       "    </tr>\n",
       "  </tbody>\n",
       "</table>\n",
       "</div>"
      ],
      "text/plain": [
       "              Year        Mean\n",
       "count   274.000000  274.000000\n",
       "mean   1948.000000    0.036588\n",
       "std      39.619805    0.320069\n",
       "min    1880.000000   -0.470000\n",
       "25%    1914.000000   -0.204350\n",
       "50%    1948.000000   -0.053400\n",
       "75%    1982.000000    0.229025\n",
       "max    2016.000000    0.990000"
      ]
     },
     "execution_count": 8,
     "metadata": {},
     "output_type": "execute_result"
    }
   ],
   "source": [
    "tmpr.describe()"
   ]
  },
  {
   "cell_type": "markdown",
   "metadata": {},
   "source": [
    "#  Data Cleansing\n"
   ]
  },
  {
   "cell_type": "markdown",
   "metadata": {},
   "source": [
    "We have to filter ‘Global CO2 Emissions’  for years after 1880 because ‘Global Temperature’ data is after 1880."
   ]
  },
  {
   "cell_type": "code",
   "execution_count": 9,
   "metadata": {},
   "outputs": [
    {
     "data": {
      "text/html": [
       "<div>\n",
       "<style scoped>\n",
       "    .dataframe tbody tr th:only-of-type {\n",
       "        vertical-align: middle;\n",
       "    }\n",
       "\n",
       "    .dataframe tbody tr th {\n",
       "        vertical-align: top;\n",
       "    }\n",
       "\n",
       "    .dataframe thead th {\n",
       "        text-align: right;\n",
       "    }\n",
       "</style>\n",
       "<table border=\"1\" class=\"dataframe\">\n",
       "  <thead>\n",
       "    <tr style=\"text-align: right;\">\n",
       "      <th></th>\n",
       "      <th>Year</th>\n",
       "      <th>Total</th>\n",
       "      <th>Gas Fuel</th>\n",
       "      <th>Liquid Fuel</th>\n",
       "      <th>Solid Fuel</th>\n",
       "      <th>Cement</th>\n",
       "      <th>Gas Flaring</th>\n",
       "      <th>Per Capita</th>\n",
       "    </tr>\n",
       "  </thead>\n",
       "  <tbody>\n",
       "    <tr>\n",
       "      <th>129</th>\n",
       "      <td>1880</td>\n",
       "      <td>236</td>\n",
       "      <td>0</td>\n",
       "      <td>3</td>\n",
       "      <td>233</td>\n",
       "      <td>0</td>\n",
       "      <td>0</td>\n",
       "      <td>NaN</td>\n",
       "    </tr>\n",
       "    <tr>\n",
       "      <th>130</th>\n",
       "      <td>1881</td>\n",
       "      <td>243</td>\n",
       "      <td>0</td>\n",
       "      <td>4</td>\n",
       "      <td>239</td>\n",
       "      <td>0</td>\n",
       "      <td>0</td>\n",
       "      <td>NaN</td>\n",
       "    </tr>\n",
       "    <tr>\n",
       "      <th>131</th>\n",
       "      <td>1882</td>\n",
       "      <td>256</td>\n",
       "      <td>0</td>\n",
       "      <td>4</td>\n",
       "      <td>252</td>\n",
       "      <td>0</td>\n",
       "      <td>0</td>\n",
       "      <td>NaN</td>\n",
       "    </tr>\n",
       "    <tr>\n",
       "      <th>132</th>\n",
       "      <td>1883</td>\n",
       "      <td>272</td>\n",
       "      <td>0</td>\n",
       "      <td>3</td>\n",
       "      <td>269</td>\n",
       "      <td>0</td>\n",
       "      <td>0</td>\n",
       "      <td>NaN</td>\n",
       "    </tr>\n",
       "    <tr>\n",
       "      <th>133</th>\n",
       "      <td>1884</td>\n",
       "      <td>275</td>\n",
       "      <td>0</td>\n",
       "      <td>4</td>\n",
       "      <td>271</td>\n",
       "      <td>0</td>\n",
       "      <td>0</td>\n",
       "      <td>NaN</td>\n",
       "    </tr>\n",
       "    <tr>\n",
       "      <th>...</th>\n",
       "      <td>...</td>\n",
       "      <td>...</td>\n",
       "      <td>...</td>\n",
       "      <td>...</td>\n",
       "      <td>...</td>\n",
       "      <td>...</td>\n",
       "      <td>...</td>\n",
       "      <td>...</td>\n",
       "    </tr>\n",
       "    <tr>\n",
       "      <th>255</th>\n",
       "      <td>2006</td>\n",
       "      <td>8370</td>\n",
       "      <td>1525</td>\n",
       "      <td>3089</td>\n",
       "      <td>3339</td>\n",
       "      <td>356</td>\n",
       "      <td>61</td>\n",
       "      <td>1.27</td>\n",
       "    </tr>\n",
       "    <tr>\n",
       "      <th>256</th>\n",
       "      <td>2007</td>\n",
       "      <td>8566</td>\n",
       "      <td>1572</td>\n",
       "      <td>3081</td>\n",
       "      <td>3464</td>\n",
       "      <td>382</td>\n",
       "      <td>68</td>\n",
       "      <td>1.28</td>\n",
       "    </tr>\n",
       "    <tr>\n",
       "      <th>257</th>\n",
       "      <td>2008</td>\n",
       "      <td>8783</td>\n",
       "      <td>1631</td>\n",
       "      <td>3122</td>\n",
       "      <td>3571</td>\n",
       "      <td>388</td>\n",
       "      <td>71</td>\n",
       "      <td>1.30</td>\n",
       "    </tr>\n",
       "    <tr>\n",
       "      <th>258</th>\n",
       "      <td>2009</td>\n",
       "      <td>8740</td>\n",
       "      <td>1585</td>\n",
       "      <td>3056</td>\n",
       "      <td>3620</td>\n",
       "      <td>413</td>\n",
       "      <td>66</td>\n",
       "      <td>1.28</td>\n",
       "    </tr>\n",
       "    <tr>\n",
       "      <th>259</th>\n",
       "      <td>2010</td>\n",
       "      <td>9167</td>\n",
       "      <td>1702</td>\n",
       "      <td>3114</td>\n",
       "      <td>3842</td>\n",
       "      <td>450</td>\n",
       "      <td>59</td>\n",
       "      <td>1.33</td>\n",
       "    </tr>\n",
       "  </tbody>\n",
       "</table>\n",
       "<p>131 rows × 8 columns</p>\n",
       "</div>"
      ],
      "text/plain": [
       "     Year  Total  Gas Fuel  Liquid Fuel  Solid Fuel  Cement  Gas Flaring  \\\n",
       "129  1880    236         0            3         233       0            0   \n",
       "130  1881    243         0            4         239       0            0   \n",
       "131  1882    256         0            4         252       0            0   \n",
       "132  1883    272         0            3         269       0            0   \n",
       "133  1884    275         0            4         271       0            0   \n",
       "..    ...    ...       ...          ...         ...     ...          ...   \n",
       "255  2006   8370      1525         3089        3339     356           61   \n",
       "256  2007   8566      1572         3081        3464     382           68   \n",
       "257  2008   8783      1631         3122        3571     388           71   \n",
       "258  2009   8740      1585         3056        3620     413           66   \n",
       "259  2010   9167      1702         3114        3842     450           59   \n",
       "\n",
       "     Per Capita  \n",
       "129         NaN  \n",
       "130         NaN  \n",
       "131         NaN  \n",
       "132         NaN  \n",
       "133         NaN  \n",
       "..          ...  \n",
       "255        1.27  \n",
       "256        1.28  \n",
       "257        1.30  \n",
       "258        1.28  \n",
       "259        1.33  \n",
       "\n",
       "[131 rows x 8 columns]"
      ]
     },
     "execution_count": 9,
     "metadata": {},
     "output_type": "execute_result"
    }
   ],
   "source": [
    "# Filtering dataset to match other dataset\n",
    "co2 = co2[co2['Year'] >= 1880]\n",
    "co2"
   ]
  },
  {
   "cell_type": "markdown",
   "metadata": {},
   "source": [
    "We have to filter ‘Global Temperature’ for years before 2010 because ‘Global CO2 Emissions’ data is until 2010."
   ]
  },
  {
   "cell_type": "code",
   "execution_count": 10,
   "metadata": {},
   "outputs": [
    {
     "data": {
      "text/html": [
       "<div>\n",
       "<style scoped>\n",
       "    .dataframe tbody tr th:only-of-type {\n",
       "        vertical-align: middle;\n",
       "    }\n",
       "\n",
       "    .dataframe tbody tr th {\n",
       "        vertical-align: top;\n",
       "    }\n",
       "\n",
       "    .dataframe thead th {\n",
       "        text-align: right;\n",
       "    }\n",
       "</style>\n",
       "<table border=\"1\" class=\"dataframe\">\n",
       "  <thead>\n",
       "    <tr style=\"text-align: right;\">\n",
       "      <th></th>\n",
       "      <th>Source</th>\n",
       "      <th>Year</th>\n",
       "      <th>Mean</th>\n",
       "    </tr>\n",
       "  </thead>\n",
       "  <tbody>\n",
       "    <tr>\n",
       "      <th>12</th>\n",
       "      <td>GCAG</td>\n",
       "      <td>2010</td>\n",
       "      <td>0.7014</td>\n",
       "    </tr>\n",
       "    <tr>\n",
       "      <th>13</th>\n",
       "      <td>GISTEMP</td>\n",
       "      <td>2010</td>\n",
       "      <td>0.7100</td>\n",
       "    </tr>\n",
       "    <tr>\n",
       "      <th>14</th>\n",
       "      <td>GCAG</td>\n",
       "      <td>2009</td>\n",
       "      <td>0.6367</td>\n",
       "    </tr>\n",
       "    <tr>\n",
       "      <th>15</th>\n",
       "      <td>GISTEMP</td>\n",
       "      <td>2009</td>\n",
       "      <td>0.6400</td>\n",
       "    </tr>\n",
       "    <tr>\n",
       "      <th>16</th>\n",
       "      <td>GCAG</td>\n",
       "      <td>2008</td>\n",
       "      <td>0.5419</td>\n",
       "    </tr>\n",
       "    <tr>\n",
       "      <th>...</th>\n",
       "      <td>...</td>\n",
       "      <td>...</td>\n",
       "      <td>...</td>\n",
       "    </tr>\n",
       "    <tr>\n",
       "      <th>269</th>\n",
       "      <td>GISTEMP</td>\n",
       "      <td>1882</td>\n",
       "      <td>-0.1000</td>\n",
       "    </tr>\n",
       "    <tr>\n",
       "      <th>270</th>\n",
       "      <td>GCAG</td>\n",
       "      <td>1881</td>\n",
       "      <td>-0.0628</td>\n",
       "    </tr>\n",
       "    <tr>\n",
       "      <th>271</th>\n",
       "      <td>GISTEMP</td>\n",
       "      <td>1881</td>\n",
       "      <td>-0.1200</td>\n",
       "    </tr>\n",
       "    <tr>\n",
       "      <th>272</th>\n",
       "      <td>GCAG</td>\n",
       "      <td>1880</td>\n",
       "      <td>-0.1148</td>\n",
       "    </tr>\n",
       "    <tr>\n",
       "      <th>273</th>\n",
       "      <td>GISTEMP</td>\n",
       "      <td>1880</td>\n",
       "      <td>-0.2000</td>\n",
       "    </tr>\n",
       "  </tbody>\n",
       "</table>\n",
       "<p>262 rows × 3 columns</p>\n",
       "</div>"
      ],
      "text/plain": [
       "      Source  Year    Mean\n",
       "12      GCAG  2010  0.7014\n",
       "13   GISTEMP  2010  0.7100\n",
       "14      GCAG  2009  0.6367\n",
       "15   GISTEMP  2009  0.6400\n",
       "16      GCAG  2008  0.5419\n",
       "..       ...   ...     ...\n",
       "269  GISTEMP  1882 -0.1000\n",
       "270     GCAG  1881 -0.0628\n",
       "271  GISTEMP  1881 -0.1200\n",
       "272     GCAG  1880 -0.1148\n",
       "273  GISTEMP  1880 -0.2000\n",
       "\n",
       "[262 rows x 3 columns]"
      ]
     },
     "execution_count": 10,
     "metadata": {},
     "output_type": "execute_result"
    }
   ],
   "source": [
    "# Filtering dataset to match other dataset\n",
    "tmpr = tmpr[tmpr['Year'] <= 2010]\n",
    "tmpr"
   ]
  },
  {
   "cell_type": "markdown",
   "metadata": {},
   "source": [
    "For ‘Global CO2 Emissions’ keep only ‘Total’ column and drop others, set the index to ‘Year’ Column and sort data by index(Year)."
   ]
  },
  {
   "cell_type": "code",
   "execution_count": 11,
   "metadata": {},
   "outputs": [],
   "source": [
    "co2 = co2.drop(['Gas Fuel', 'Liquid Fuel', 'Solid Fuel', 'Cement', 'Gas Flaring', 'Per Capita'], axis=1).set_index('Year').sort_index()"
   ]
  },
  {
   "cell_type": "markdown",
   "metadata": {},
   "source": [
    "---\n",
    "For ‘Global CO2 Emissions’ dataset, separating two sources (GCAG, GISTEMP), then drop the source and set the index on ‘Year’ column and sort data by index (Year)"
   ]
  },
  {
   "cell_type": "code",
   "execution_count": 12,
   "metadata": {},
   "outputs": [],
   "source": [
    "GCAG = tmpr[(tmpr['Source'] == 'GCAG')].set_index('Year').drop(['Source'], axis=1).sort_index()"
   ]
  },
  {
   "cell_type": "code",
   "execution_count": 13,
   "metadata": {},
   "outputs": [],
   "source": [
    "GISTEMP = tmpr[(tmpr['Source'] == 'GISTEMP')].set_index('Year').drop(['Source'], axis=1).sort_index()"
   ]
  },
  {
   "cell_type": "markdown",
   "metadata": {},
   "source": [
    "# Insights"
   ]
  },
  {
   "cell_type": "markdown",
   "metadata": {},
   "source": [
    "Set a color for each data set and plot data to visually check our datasets.\n",
    "\n",
    "- <p style=\"color:#5F9EA0\">‘Global CO2 Emissions’ = ‘#5F9EA0’\n",
    "- <p style=\"color:#A52A2A\">‘Global Temperature GCAG’ = ‘#A52A2A’\n",
    "- <p style=\"color:#8A2BE2\">‘Global Temperature GIS_c’ = ‘#8A2BE2’"
   ]
  },
  {
   "cell_type": "code",
   "execution_count": 14,
   "metadata": {
    "scrolled": true
   },
   "outputs": [
    {
     "data": {
      "image/png": "[encoded data removed]",
      "text/plain": [
       "<Figure size 720x360 with 2 Axes>"
      ]
     },
     "metadata": {
      "needs_background": "light"
     },
     "output_type": "display_data"
    }
   ],
   "source": [
    "#set a color\n",
    "co2_c = '#5F9EA0' #Cadet blue\n",
    "GCAG_c = '#A52A2A' #Brown\n",
    "GIS_c = '#8A2BE2' #Blue violet\n",
    "fig, ax1 = plt.subplots()\n",
    "# Add CO2 dataset on second axis\n",
    "ax2 = ax1.twinx()\n",
    "ax1.plot(GCAG, color= GCAG_c, label='GCAG')\n",
    "ax1.plot(GISTEMP, color = GIS_c, label='GISTEMP')\n",
    "ax2.plot(co2, color = co2_c, label='CO2')\n",
    "plt.legend()\n",
    "plt.show()"
   ]
  },
  {
   "cell_type": "markdown",
   "metadata": {},
   "source": [
    "There are some differences between GCAG, and GISTEMP data, comparing two datasets’s histogram."
   ]
  },
  {
   "cell_type": "code",
   "execution_count": 15,
   "metadata": {},
   "outputs": [
    {
     "data": {
      "image/png": "[encoded data removed]",
      "text/plain": [
       "<Figure size 720x360 with 1 Axes>"
      ]
     },
     "metadata": {
      "needs_background": "light"
     },
     "output_type": "display_data"
    }
   ],
   "source": [
    "ax1 = plt.hist(GCAG, 10, alpha = 0.5, color = GCAG_c, label='GCAG')\n",
    "ax2 = plt.hist(GISTEMP, 10, alpha = 0.5, color = GIS_c, label='GISTEMP')\n",
    "plt.legend()\n",
    "plt.show()"
   ]
  },
  {
   "cell_type": "markdown",
   "metadata": {},
   "source": [
    "Plot a scatter plot for each dataset (GCAG, GISTEMP) with CO2."
   ]
  },
  {
   "cell_type": "code",
   "execution_count": 16,
   "metadata": {
    "scrolled": true
   },
   "outputs": [
    {
     "data": {
      "image/png": "[encoded data removed]",
      "text/plain": [
       "<Figure size 720x360 with 2 Axes>"
      ]
     },
     "metadata": {
      "needs_background": "light"
     },
     "output_type": "display_data"
    }
   ],
   "source": [
    "plt.subplot(1,2,1)\n",
    "plt.scatter(GCAG, co2, alpha=0.5, s = 100, color = GCAG_c)\n",
    "plt.title('GCAG')\n",
    "plt.ylabel('CO2')\n",
    "plt.subplot(1,2,2)\n",
    "plt.scatter(GISTEMP, co2, alpha=0.5, s = 100, color = GIS_c)\n",
    "plt.ylabel('CO2')\n",
    "plt.title('GISTEMP')\n",
    "plt.show()"
   ]
  },
  {
   "cell_type": "markdown",
   "metadata": {},
   "source": [
    "Visually we can see a correlation between our datasets, but know we check the numbers"
   ]
  },
  {
   "cell_type": "code",
   "execution_count": 17,
   "metadata": {},
   "outputs": [
    {
     "data": {
      "text/html": [
       "<div>\n",
       "<style scoped>\n",
       "    .dataframe tbody tr th:only-of-type {\n",
       "        vertical-align: middle;\n",
       "    }\n",
       "\n",
       "    .dataframe tbody tr th {\n",
       "        vertical-align: top;\n",
       "    }\n",
       "\n",
       "    .dataframe thead th {\n",
       "        text-align: right;\n",
       "    }\n",
       "</style>\n",
       "<table border=\"1\" class=\"dataframe\">\n",
       "  <thead>\n",
       "    <tr style=\"text-align: right;\">\n",
       "      <th></th>\n",
       "      <th>Mean</th>\n",
       "      <th>Total</th>\n",
       "    </tr>\n",
       "  </thead>\n",
       "  <tbody>\n",
       "    <tr>\n",
       "      <th>Mean</th>\n",
       "      <td>1.000000</td>\n",
       "      <td>0.888284</td>\n",
       "    </tr>\n",
       "    <tr>\n",
       "      <th>Total</th>\n",
       "      <td>0.888284</td>\n",
       "      <td>1.000000</td>\n",
       "    </tr>\n",
       "  </tbody>\n",
       "</table>\n",
       "</div>"
      ],
      "text/plain": [
       "           Mean     Total\n",
       "Mean   1.000000  0.888284\n",
       "Total  0.888284  1.000000"
      ]
     },
     "execution_count": 17,
     "metadata": {},
     "output_type": "execute_result"
    }
   ],
   "source": [
    "GCAG_corr = pd.concat([GCAG, co2], axis=1).corr()\n",
    "GCAG_corr"
   ]
  },
  {
   "cell_type": "code",
   "execution_count": 18,
   "metadata": {},
   "outputs": [
    {
     "data": {
      "text/html": [
       "<div>\n",
       "<style scoped>\n",
       "    .dataframe tbody tr th:only-of-type {\n",
       "        vertical-align: middle;\n",
       "    }\n",
       "\n",
       "    .dataframe tbody tr th {\n",
       "        vertical-align: top;\n",
       "    }\n",
       "\n",
       "    .dataframe thead th {\n",
       "        text-align: right;\n",
       "    }\n",
       "</style>\n",
       "<table border=\"1\" class=\"dataframe\">\n",
       "  <thead>\n",
       "    <tr style=\"text-align: right;\">\n",
       "      <th></th>\n",
       "      <th>Mean</th>\n",
       "      <th>Total</th>\n",
       "    </tr>\n",
       "  </thead>\n",
       "  <tbody>\n",
       "    <tr>\n",
       "      <th>Mean</th>\n",
       "      <td>1.000000</td>\n",
       "      <td>0.897529</td>\n",
       "    </tr>\n",
       "    <tr>\n",
       "      <th>Total</th>\n",
       "      <td>0.897529</td>\n",
       "      <td>1.000000</td>\n",
       "    </tr>\n",
       "  </tbody>\n",
       "</table>\n",
       "</div>"
      ],
      "text/plain": [
       "           Mean     Total\n",
       "Mean   1.000000  0.897529\n",
       "Total  0.897529  1.000000"
      ]
     },
     "execution_count": 18,
     "metadata": {},
     "output_type": "execute_result"
    }
   ],
   "source": [
    "GISTEMP_corr = pd.concat([GISTEMP, co2], axis=1).corr()\n",
    "GISTEMP_corr"
   ]
  },
  {
   "cell_type": "markdown",
   "metadata": {},
   "source": [
    "We can the there is a strong relationship between ‘Global CO2 Emissions’ &  ‘Global Temperature’.\n",
    "- GCAG = 0.888284\n",
    "- GISTEMP = 0.897529"
   ]
  },
  {
   "cell_type": "markdown",
   "metadata": {},
   "source": [
    "### Linear Regression Models"
   ]
  },
  {
   "cell_type": "code",
   "execution_count": 19,
   "metadata": {},
   "outputs": [
    {
     "data": {
      "text/html": [
       "<table class=\"simpletable\">\n",
       "<tr>\n",
       "          <td>Model:</td>                 <td>OLS</td>       <td>Adj. R-squared (uncentered):</td>   <td>0.412</td> \n",
       "</tr>\n",
       "<tr>\n",
       "    <td>Dependent Variable:</td>         <td>Mean</td>                   <td>AIC:</td>             <td>-30.0077</td>\n",
       "</tr>\n",
       "<tr>\n",
       "           <td>Date:</td>          <td>2021-02-11 16:06</td>             <td>BIC:</td>             <td>-27.1325</td>\n",
       "</tr>\n",
       "<tr>\n",
       "     <td>No. Observations:</td>           <td>131</td>              <td>Log-Likelihood:</td>        <td>16.004</td> \n",
       "</tr>\n",
       "<tr>\n",
       "         <td>Df Model:</td>                <td>1</td>                <td>F-statistic:</td>           <td>92.76</td> \n",
       "</tr>\n",
       "<tr>\n",
       "       <td>Df Residuals:</td>             <td>130</td>            <td>Prob (F-statistic):</td>     <td>6.70e-17</td>\n",
       "</tr>\n",
       "<tr>\n",
       "  <td>R-squared (uncentered):</td>       <td>0.416</td>                 <td>Scale:</td>            <td>0.046211</td>\n",
       "</tr>\n",
       "</table>\n",
       "<table class=\"simpletable\">\n",
       "<tr>\n",
       "    <td></td>     <th>Coef.</th> <th>Std.Err.</th>    <th>t</th>    <th>P>|t|</th> <th>[0.025</th> <th>0.975]</th>\n",
       "</tr>\n",
       "<tr>\n",
       "  <th>Total</th> <td>0.0000</td>  <td>0.0000</td>  <td>9.6314</td> <td>0.0000</td> <td>0.0000</td> <td>0.0001</td>\n",
       "</tr>\n",
       "</table>\n",
       "<table class=\"simpletable\">\n",
       "<tr>\n",
       "     <td>Omnibus:</td>    <td>3.886</td>  <td>Durbin-Watson:</td>   <td>0.226</td>\n",
       "</tr>\n",
       "<tr>\n",
       "  <td>Prob(Omnibus):</td> <td>0.143</td> <td>Jarque-Bera (JB):</td> <td>3.604</td>\n",
       "</tr>\n",
       "<tr>\n",
       "       <td>Skew:</td>     <td>0.337</td>     <td>Prob(JB):</td>     <td>0.165</td>\n",
       "</tr>\n",
       "<tr>\n",
       "     <td>Kurtosis:</td>   <td>2.546</td>  <td>Condition No.:</td>     <td>1</td>  \n",
       "</tr>\n",
       "</table>"
      ],
      "text/plain": [
       "<class 'statsmodels.iolib.summary2.Summary'>\n",
       "\"\"\"\n",
       "                       Results: Ordinary least squares\n",
       "==============================================================================\n",
       "Model:                  OLS              Adj. R-squared (uncentered): 0.412   \n",
       "Dependent Variable:     Mean             AIC:                         -30.0077\n",
       "Date:                   2021-02-11 16:06 BIC:                         -27.1325\n",
       "No. Observations:       131              Log-Likelihood:              16.004  \n",
       "Df Model:               1                F-statistic:                 92.76   \n",
       "Df Residuals:           130              Prob (F-statistic):          6.70e-17\n",
       "R-squared (uncentered): 0.416            Scale:                       0.046211\n",
       "-----------------------------------------------------------------------------------\n",
       "               Coef.       Std.Err.        t         P>|t|       [0.025      0.975]\n",
       "-----------------------------------------------------------------------------------\n",
       "Total          0.0000        0.0000      9.6314      0.0000      0.0000      0.0001\n",
       "------------------------------------------------------------------------------\n",
       "Omnibus:                   3.886            Durbin-Watson:               0.226\n",
       "Prob(Omnibus):             0.143            Jarque-Bera (JB):            3.604\n",
       "Skew:                      0.337            Prob(JB):                    0.165\n",
       "Kurtosis:                  2.546            Condition No.:               1    \n",
       "==============================================================================\n",
       "\n",
       "\"\"\""
      ]
     },
     "execution_count": 19,
     "metadata": {},
     "output_type": "execute_result"
    }
   ],
   "source": [
    "GCAG_model = sm.OLS(GCAG, co2).fit()\n",
    "GCAG_model.summary2()"
   ]
  },
  {
   "cell_type": "code",
   "execution_count": 20,
   "metadata": {},
   "outputs": [
    {
     "data": {
      "text/html": [
       "<table class=\"simpletable\">\n",
       "<tr>\n",
       "          <td>Model:</td>                 <td>OLS</td>       <td>Adj. R-squared (uncentered):</td>   <td>0.338</td> \n",
       "</tr>\n",
       "<tr>\n",
       "    <td>Dependent Variable:</td>         <td>Mean</td>                   <td>AIC:</td>              <td>-3.7803</td>\n",
       "</tr>\n",
       "<tr>\n",
       "           <td>Date:</td>          <td>2021-02-11 16:06</td>             <td>BIC:</td>              <td>-0.9051</td>\n",
       "</tr>\n",
       "<tr>\n",
       "     <td>No. Observations:</td>           <td>131</td>              <td>Log-Likelihood:</td>        <td>2.8901</td> \n",
       "</tr>\n",
       "<tr>\n",
       "         <td>Df Model:</td>                <td>1</td>                <td>F-statistic:</td>           <td>67.87</td> \n",
       "</tr>\n",
       "<tr>\n",
       "       <td>Df Residuals:</td>             <td>130</td>            <td>Prob (F-statistic):</td>     <td>1.63e-13</td>\n",
       "</tr>\n",
       "<tr>\n",
       "  <td>R-squared (uncentered):</td>       <td>0.343</td>                 <td>Scale:</td>            <td>0.056453</td>\n",
       "</tr>\n",
       "</table>\n",
       "<table class=\"simpletable\">\n",
       "<tr>\n",
       "    <td></td>     <th>Coef.</th> <th>Std.Err.</th>    <th>t</th>    <th>P>|t|</th> <th>[0.025</th> <th>0.975]</th>\n",
       "</tr>\n",
       "<tr>\n",
       "  <th>Total</th> <td>0.0000</td>  <td>0.0000</td>  <td>8.2383</td> <td>0.0000</td> <td>0.0000</td> <td>0.0001</td>\n",
       "</tr>\n",
       "</table>\n",
       "<table class=\"simpletable\">\n",
       "<tr>\n",
       "     <td>Omnibus:</td>    <td>6.004</td>  <td>Durbin-Watson:</td>   <td>0.210</td>\n",
       "</tr>\n",
       "<tr>\n",
       "  <td>Prob(Omnibus):</td> <td>0.050</td> <td>Jarque-Bera (JB):</td> <td>6.112</td>\n",
       "</tr>\n",
       "<tr>\n",
       "       <td>Skew:</td>     <td>0.500</td>     <td>Prob(JB):</td>     <td>0.047</td>\n",
       "</tr>\n",
       "<tr>\n",
       "     <td>Kurtosis:</td>   <td>2.655</td>  <td>Condition No.:</td>     <td>1</td>  \n",
       "</tr>\n",
       "</table>"
      ],
      "text/plain": [
       "<class 'statsmodels.iolib.summary2.Summary'>\n",
       "\"\"\"\n",
       "                       Results: Ordinary least squares\n",
       "==============================================================================\n",
       "Model:                  OLS              Adj. R-squared (uncentered): 0.338   \n",
       "Dependent Variable:     Mean             AIC:                         -3.7803 \n",
       "Date:                   2021-02-11 16:06 BIC:                         -0.9051 \n",
       "No. Observations:       131              Log-Likelihood:              2.8901  \n",
       "Df Model:               1                F-statistic:                 67.87   \n",
       "Df Residuals:           130              Prob (F-statistic):          1.63e-13\n",
       "R-squared (uncentered): 0.343            Scale:                       0.056453\n",
       "-----------------------------------------------------------------------------------\n",
       "               Coef.       Std.Err.        t         P>|t|       [0.025      0.975]\n",
       "-----------------------------------------------------------------------------------\n",
       "Total          0.0000        0.0000      8.2383      0.0000      0.0000      0.0001\n",
       "------------------------------------------------------------------------------\n",
       "Omnibus:                   6.004            Durbin-Watson:               0.210\n",
       "Prob(Omnibus):             0.050            Jarque-Bera (JB):            6.112\n",
       "Skew:                      0.500            Prob(JB):                    0.047\n",
       "Kurtosis:                  2.655            Condition No.:               1    \n",
       "==============================================================================\n",
       "\n",
       "\"\"\""
      ]
     },
     "execution_count": 20,
     "metadata": {},
     "output_type": "execute_result"
    }
   ],
   "source": [
    "GISTEMP_model = sm.OLS(GISTEMP, co2).fit()\n",
    "GISTEMP_model.summary2()"
   ]
  },
  {
   "cell_type": "code",
   "execution_count": 21,
   "metadata": {},
   "outputs": [
    {
     "data": {
      "text/plain": [
       "Text(0.5, 1.0, 'Linear Regression')"
      ]
     },
     "execution_count": 21,
     "metadata": {},
     "output_type": "execute_result"
    },
    {
     "data": {
      "image/png": "[encoded data removed]",
      "text/plain": [
       "<Figure size 720x360 with 1 Axes>"
      ]
     },
     "metadata": {
      "needs_background": "light"
     },
     "output_type": "display_data"
    }
   ],
   "source": [
    "fig, ax = plt.subplots()\n",
    "fig = sm.graphics.plot_fit(GCAG_model, 0, ax=ax)\n",
    "ax.set_ylabel(\"GCAG\")\n",
    "ax.set_xlabel(\"CO2\")\n",
    "ax.set_title(\"Linear Regression\")"
   ]
  },
  {
   "cell_type": "code",
   "execution_count": 22,
   "metadata": {
    "scrolled": false
   },
   "outputs": [
    {
     "data": {
      "text/plain": [
       "Text(0.5, 1.0, 'Linear Regression')"
      ]
     },
     "execution_count": 22,
     "metadata": {},
     "output_type": "execute_result"
    },
    {
     "data": {
      "image/png": "[encoded data removed]",
      "text/plain": [
       "<Figure size 720x360 with 1 Axes>"
      ]
     },
     "metadata": {
      "needs_background": "light"
     },
     "output_type": "display_data"
    }
   ],
   "source": [
    "fig, ax = plt.subplots()\n",
    "fig = sm.graphics.plot_fit(GISTEMP_model, 0, ax=ax)\n",
    "ax.set_ylabel(\"GCAG\")\n",
    "ax.set_xlabel(\"CO2\")\n",
    "ax.set_title(\"Linear Regression\")"
   ]
  },
  {
   "cell_type": "markdown",
   "metadata": {},
   "source": [
    "### Using Seaborn 'regplot'"
   ]
  },
  {
   "cell_type": "code",
   "execution_count": 23,
   "metadata": {
    "scrolled": true
   },
   "outputs": [
    {
     "data": {
      "image/png": "[encoded data removed]",
      "text/plain": [
       "<Figure size 720x360 with 1 Axes>"
      ]
     },
     "metadata": {
      "needs_background": "light"
     },
     "output_type": "display_data"
    }
   ],
   "source": [
    "sns.regplot(x=\"Total\", y=\"Mean\", data=pd.concat([GCAG, co2], axis=1), scatter_kws={\"color\": \"brown\"}, line_kws={\"color\": \"gray\"});"
   ]
  },
  {
   "cell_type": "code",
   "execution_count": 24,
   "metadata": {},
   "outputs": [
    {
     "data": {
      "image/png": "[encoded data removed]",
      "text/plain": [
       "<Figure size 720x360 with 1 Axes>"
      ]
     },
     "metadata": {
      "needs_background": "light"
     },
     "output_type": "display_data"
    }
   ],
   "source": [
    "sns.regplot(x=\"Total\", y=\"Mean\", data=pd.concat([GISTEMP, co2], axis=1), scatter_kws={\"color\": \"blueviolet\"}, line_kws={\"color\": \"gray\"}, label = 'GISTEMP');"
   ]
  },
  {
   "cell_type": "markdown",
   "metadata": {},
   "source": [
    "# Predict 2011-2021"
   ]
  },
  {
   "cell_type": "code",
   "execution_count": 25,
   "metadata": {},
   "outputs": [
    {
     "data": {
      "text/html": [
       "<div>\n",
       "<style scoped>\n",
       "    .dataframe tbody tr th:only-of-type {\n",
       "        vertical-align: middle;\n",
       "    }\n",
       "\n",
       "    .dataframe tbody tr th {\n",
       "        vertical-align: top;\n",
       "    }\n",
       "\n",
       "    .dataframe thead th {\n",
       "        text-align: right;\n",
       "    }\n",
       "</style>\n",
       "<table border=\"1\" class=\"dataframe\">\n",
       "  <thead>\n",
       "    <tr style=\"text-align: right;\">\n",
       "      <th></th>\n",
       "      <th>Year</th>\n",
       "      <th>GCAG</th>\n",
       "      <th>GISTEMP</th>\n",
       "    </tr>\n",
       "  </thead>\n",
       "  <tbody>\n",
       "    <tr>\n",
       "      <th>0</th>\n",
       "      <td>2011</td>\n",
       "      <td>0.097440</td>\n",
       "      <td>0.092121</td>\n",
       "    </tr>\n",
       "    <tr>\n",
       "      <th>1</th>\n",
       "      <td>2012</td>\n",
       "      <td>0.097488</td>\n",
       "      <td>0.092166</td>\n",
       "    </tr>\n",
       "    <tr>\n",
       "      <th>2</th>\n",
       "      <td>2013</td>\n",
       "      <td>0.097536</td>\n",
       "      <td>0.092212</td>\n",
       "    </tr>\n",
       "    <tr>\n",
       "      <th>3</th>\n",
       "      <td>2014</td>\n",
       "      <td>0.097585</td>\n",
       "      <td>0.092258</td>\n",
       "    </tr>\n",
       "    <tr>\n",
       "      <th>4</th>\n",
       "      <td>2015</td>\n",
       "      <td>0.097633</td>\n",
       "      <td>0.092304</td>\n",
       "    </tr>\n",
       "    <tr>\n",
       "      <th>5</th>\n",
       "      <td>2016</td>\n",
       "      <td>0.097682</td>\n",
       "      <td>0.092350</td>\n",
       "    </tr>\n",
       "    <tr>\n",
       "      <th>6</th>\n",
       "      <td>2017</td>\n",
       "      <td>0.097730</td>\n",
       "      <td>0.092395</td>\n",
       "    </tr>\n",
       "    <tr>\n",
       "      <th>7</th>\n",
       "      <td>2018</td>\n",
       "      <td>0.097779</td>\n",
       "      <td>0.092441</td>\n",
       "    </tr>\n",
       "    <tr>\n",
       "      <th>8</th>\n",
       "      <td>2019</td>\n",
       "      <td>0.097827</td>\n",
       "      <td>0.092487</td>\n",
       "    </tr>\n",
       "    <tr>\n",
       "      <th>9</th>\n",
       "      <td>2020</td>\n",
       "      <td>0.097876</td>\n",
       "      <td>0.092533</td>\n",
       "    </tr>\n",
       "  </tbody>\n",
       "</table>\n",
       "</div>"
      ],
      "text/plain": [
       "   Year      GCAG   GISTEMP\n",
       "0  2011  0.097440  0.092121\n",
       "1  2012  0.097488  0.092166\n",
       "2  2013  0.097536  0.092212\n",
       "3  2014  0.097585  0.092258\n",
       "4  2015  0.097633  0.092304\n",
       "5  2016  0.097682  0.092350\n",
       "6  2017  0.097730  0.092395\n",
       "7  2018  0.097779  0.092441\n",
       "8  2019  0.097827  0.092487\n",
       "9  2020  0.097876  0.092533"
      ]
     },
     "execution_count": 25,
     "metadata": {},
     "output_type": "execute_result"
    }
   ],
   "source": [
    "pyear = np.arange(2011, 2021)\n",
    "pd.DataFrame({'Year': pyear, 'GCAG': GCAG_model.predict(pyear), 'GISTEMP': GISTEMP_model.predict(pyear)})"
   ]
  },
  {
   "cell_type": "code",
   "execution_count": null,
   "metadata": {},
   "outputs": [],
   "source": []
  }
 ],
 "metadata": {
  "kernelspec": {
   "display_name": "Python 3",
   "language": "python",
   "name": "python3"
  },
  "language_info": {
   "codemirror_mode": {
    "name": "ipython",
    "version": 3
   },
   "file_extension": ".py",
   "mimetype": "text/x-python",
   "name": "python",
   "nbconvert_exporter": "python",
   "pygments_lexer": "ipython3",
   "version": "3.8.5"
  }
 },
 "nbformat": 4,
 "nbformat_minor": 4
}
